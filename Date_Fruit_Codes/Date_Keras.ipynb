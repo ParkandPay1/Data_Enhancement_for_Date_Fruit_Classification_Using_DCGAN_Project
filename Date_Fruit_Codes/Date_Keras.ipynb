{
 "cells": [
  {
   "cell_type": "code",
   "execution_count": null,
   "metadata": {
    "colab": {
     "base_uri": "https://localhost:8080/",
     "height": 351
    },
    "executionInfo": {
     "elapsed": 678,
     "status": "error",
     "timestamp": 1603563874438,
     "user": {
      "displayName": "M Sultan",
      "photoUrl": "",
      "userId": "12323970378952777233"
     },
     "user_tz": -180
    },
    "id": "cSRq7CgrJwJf",
    "outputId": "d4082e5e-cb00-49c9-9b47-261eaf7f6fde"
   },
   "outputs": [],
   "source": [
    "from zipfile import ZipFile\n",
    "file_name = \"ThreeDateFruits.zip\"\n",
    "with ZipFile(file_name, 'r') as zip:\n",
    "  zip.extractall()\n",
    "  print('Done')"
   ]
  },
  {
   "cell_type": "code",
   "execution_count": null,
   "metadata": {
    "colab": {
     "base_uri": "https://localhost:8080/",
     "height": 97
    },
    "id": "Nwug6UsbLVlR",
    "outputId": "db365921-f838-4535-f48e-a387594743d1"
   },
   "outputs": [],
   "source": [
    "# (1) Import libraries\n",
    "import pandas as pd\n",
    "import numpy as np\n",
    "\n",
    "import matplotlib.pyplot as plt\n",
    "%matplotlib inline\n",
    "\n",
    "import seaborn as sns\n",
    "sns.set(style=\"whitegrid\")\n",
    "\n",
    "import os               #create folders, open ...\n",
    "import glob as gb       #create folders, open ...\n",
    "import cv2              #opencv (Dealing with images)\n",
    "import keras "
   ]
  },
  {
   "cell_type": "code",
   "execution_count": null,
   "metadata": {
    "id": "dpytShOfLVla"
   },
   "outputs": [],
   "source": [
    "#Define the path\n",
    "trainpath = '/content/'\n",
    "testpath = '/content/'\n",
    "predpath = '/content/'\n",
    "\n",
    "#! cd fourDateFruits/\n",
    "#! ls"
   ]
  },
  {
   "cell_type": "code",
   "execution_count": null,
   "metadata": {
    "colab": {
     "base_uri": "https://localhost:8080/",
     "height": 85
    },
    "id": "6iym_mgFLVlf",
    "outputId": "927ee284-5a26-4985-f549-c2bbf5a8a1ae"
   },
   "outputs": [],
   "source": [
    "# (2) Open folders \n",
    "#First check The train folder to have a look to its content\n",
    "for folder in  os.listdir(trainpath + 'Training_dataset') :\n",
    "    files = gb.glob(pathname= str( trainpath +'Training_dataset//' + folder + '/*.jpg'))\n",
    "    print(f'For training data , found {len(files)} items in folder {folder}')"
   ]
  },
  {
   "cell_type": "code",
   "execution_count": null,
   "metadata": {
    "colab": {
     "base_uri": "https://localhost:8080/",
     "height": 85
    },
    "id": "M30Vd7CKVrsd",
    "outputId": "87f258c8-9191-49bb-cd3a-abe1abfe4934"
   },
   "outputs": [],
   "source": [
    "#The test folder\n",
    "for folder in  os.listdir(testpath +'Testing_dataset') : \n",
    "    files = gb.glob(pathname= str( testpath +'Testing_dataset//' + folder + '/*.jpg'))\n",
    "    print(f'For testing data , found {len(files)} items in folder {folder}')"
   ]
  },
  {
   "cell_type": "code",
   "execution_count": null,
   "metadata": {
    "colab": {
     "base_uri": "https://localhost:8080/",
     "height": 34
    },
    "id": "pBqYEnSEWImG",
    "outputId": "e76e2276-e2ec-482b-b901-24fb2b3faf03"
   },
   "outputs": [],
   "source": [
    "#The prediction folder\n",
    "files = gb.glob(pathname= str(predpath +'Prediction_dataset/*.jpg'))\n",
    "print(f'For Prediction data , found {len(files)} items')"
   ]
  },
  {
   "cell_type": "code",
   "execution_count": null,
   "metadata": {
    "id": "-8dT2IUhWPK3"
   },
   "outputs": [],
   "source": [
    "# (3) Checking Images \n",
    "#Checking images sizes\n",
    "#since we have 3 categories , we first need to create a dictionary with their names & indices, \n",
    "#also create a function to get the code back {key:value} {x:y}\n",
    "\n",
    "code = {'sukkri':0 ,'ajwa':1, 'sagei':2}\n",
    "def getcode(n) : \n",
    "    for x , y in code.items() : \n",
    "        if n == y : \n",
    "            return x"
   ]
  },
  {
   "cell_type": "code",
   "execution_count": null,
   "metadata": {
    "colab": {
     "base_uri": "https://localhost:8080/",
     "height": 221
    },
    "id": "X8mtbcilWTfw",
    "outputId": "f5769355-78b4-493a-9556-d804cf878856"
   },
   "outputs": [],
   "source": [
    "#The images sizes in train folder\n",
    "size = []\n",
    "for folder in  os.listdir(trainpath +'Training_dataset') : \n",
    "    files = gb.glob(pathname= str( trainpath +'Training_dataset//' + folder + '/*.jpg'))\n",
    "    for file in files: \n",
    "        image = plt.imread(file)\n",
    "        size.append(image.shape)\n",
    "pd.Series(size).value_counts() "
   ]
  },
  {
   "cell_type": "code",
   "execution_count": null,
   "metadata": {
    "colab": {
     "base_uri": "https://localhost:8080/",
     "height": 816
    },
    "id": "uywR2TZGWeoR",
    "outputId": "e6f35452-0e07-408d-e314-5c9d1acb9ac5"
   },
   "outputs": [],
   "source": [
    "#The prediction images\n",
    "size = []\n",
    "files = gb.glob(pathname= str(predpath +'Prediction_dataset/*.jpg'))\n",
    "for file in files: \n",
    "    image = plt.imread(file)\n",
    "    size.append(image.shape)\n",
    "pd.Series(size).value_counts()"
   ]
  },
  {
   "cell_type": "code",
   "execution_count": null,
   "metadata": {
    "id": "gzG4ZVtCLVmE"
   },
   "outputs": [],
   "source": [
    "# (4) Reading Images\n",
    "#now it's time to read all images & convert it into arrays\n",
    "\n",
    "s = 100 \n",
    "\n",
    "X_train = []\n",
    "y_train = [] \n",
    "for folder in  os.listdir(trainpath +'Training_dataset') : \n",
    "    files = gb.glob(pathname= str( trainpath +'Training_dataset//' + folder + '/*.jpg'))\n",
    "    for file in files: \n",
    "        image = plt.imread(file) #cv2 or plt #read image\n",
    "        image_array = cv2.resize(image , (s,s))\n",
    "        X_train.append(list(image_array))\n",
    "        y_train.append(code[folder])"
   ]
  },
  {
   "cell_type": "code",
   "execution_count": null,
   "metadata": {
    "colab": {
     "base_uri": "https://localhost:8080/",
     "height": 34
    },
    "id": "k2tDbhtiLVmJ",
    "outputId": "028d9bb3-368b-4edd-86cc-1c42fe1017ad"
   },
   "outputs": [],
   "source": [
    "print(f'we have {len(X_train)} items in X_train')"
   ]
  },
  {
   "cell_type": "code",
   "execution_count": null,
   "metadata": {
    "colab": {
     "base_uri": "https://localhost:8080/",
     "height": 1000
    },
    "id": "K__kSlnNLVmg",
    "outputId": "3c30036f-6b96-4815-af70-e148337078ca"
   },
   "outputs": [],
   "source": [
    "#we have have a look to random pictures in X_train , and to adjust their title using the y value\n",
    "  \n",
    "plt.figure(figsize=(20,20))\n",
    "for n , i in enumerate(list(np.random.randint(0,len(X_train),36))) : \n",
    "    plt.subplot(6,6,n+1) \n",
    "    plt.imshow(X_train[i])   \n",
    "    plt.axis('off')\n",
    "    plt.title(getcode(y_train[i]))"
   ]
  },
  {
   "cell_type": "code",
   "execution_count": null,
   "metadata": {
    "id": "Fb_CJ5TtLVmj"
   },
   "outputs": [],
   "source": [
    "X_test = []\n",
    "y_test = []\n",
    "for folder in  os.listdir(testpath +'Testing_dataset') : \n",
    "    files = gb.glob(pathname= str(testpath + 'Testing_dataset//' + folder + '/*.jpg'))\n",
    "    for file in files: \n",
    "        image = plt.imread(file)\n",
    "        image_array = cv2.resize(image , (s,s)) \n",
    "        X_test.append(list(image_array))\n",
    "        y_test.append(code[folder])"
   ]
  },
  {
   "cell_type": "code",
   "execution_count": null,
   "metadata": {
    "colab": {
     "base_uri": "https://localhost:8080/",
     "height": 34
    },
    "id": "AHNT9A8PLVmo",
    "outputId": "2c61e3f6-cc39-4689-fafa-6fec8bc54e6f"
   },
   "outputs": [],
   "source": [
    "print(f'we have {len(X_test)} items in X_test')"
   ]
  },
  {
   "cell_type": "code",
   "execution_count": null,
   "metadata": {
    "colab": {
     "base_uri": "https://localhost:8080/",
     "height": 1000
    },
    "id": "-nAUY9ruLVmr",
    "outputId": "7b7e2726-9f00-4f90-ea97-53128d13dc5b"
   },
   "outputs": [],
   "source": [
    "plt.figure(figsize=(20,20))\n",
    "for n , i in enumerate(list(np.random.randint(0,len(X_test),36))) : \n",
    "    plt.subplot(6,6,n+1)\n",
    "    plt.imshow(X_test[i])    \n",
    "    plt.axis('off')\n",
    "    plt.title(getcode(y_test[i]))"
   ]
  },
  {
   "cell_type": "code",
   "execution_count": null,
   "metadata": {
    "id": "SF-UK5QELVmw"
   },
   "outputs": [],
   "source": [
    "#Also with Prediction data , without having title ofcourse\n",
    "X_pred = [] \n",
    "files = gb.glob(pathname= str(predpath + 'Prediction_dataset/*.jpg'))\n",
    "for file in files: \n",
    "    image = plt.imread(file)\n",
    "    image_array = cv2.resize(image , (s,s))\n",
    "    X_pred.append(list(image_array))"
   ]
  },
  {
   "cell_type": "code",
   "execution_count": null,
   "metadata": {
    "colab": {
     "base_uri": "https://localhost:8080/",
     "height": 34
    },
    "id": "Va9yZV1xLVmz",
    "outputId": "8f36f4d9-c51e-4f06-c961-d0cecd869b59"
   },
   "outputs": [],
   "source": [
    "print(f'we have {len(X_pred)} items in X_pred')"
   ]
  },
  {
   "cell_type": "code",
   "execution_count": null,
   "metadata": {
    "colab": {
     "base_uri": "https://localhost:8080/",
     "height": 1000
    },
    "id": "e2hntpAsLVm2",
    "outputId": "01b16d83-59aa-41c6-f45c-147eadd2743a"
   },
   "outputs": [],
   "source": [
    "plt.figure(figsize=(20,20))\n",
    "for n , i in enumerate(list(np.random.randint(0,len(X_pred),36))) : \n",
    "    plt.subplot(6,6,n+1)\n",
    "    plt.imshow(X_pred[i])    \n",
    "    plt.axis('off')"
   ]
  },
  {
   "cell_type": "code",
   "execution_count": null,
   "metadata": {
    "colab": {
     "base_uri": "https://localhost:8080/",
     "height": 102
    },
    "id": "xsmFyKngYAw2",
    "outputId": "021a07dc-21fa-416f-a06e-c855bb923d6f"
   },
   "outputs": [],
   "source": [
    "# (5) Building the Model\n",
    "#First to convert the data into arrays using numpy\n",
    "X_train = np.array(X_train)\n",
    "X_test = np.array(X_test)\n",
    "X_pred_array = np.array(X_pred)\n",
    "y_train = np.array(y_train)\n",
    "y_test = np.array(y_test)\n",
    "\n",
    "#shape \n",
    "\n",
    "print(f'X_train shape  is {X_train.shape}')\n",
    "print(f'X_test shape  is {X_test.shape}')\n",
    "print(f'X_pred shape  is {X_pred_array.shape}')\n",
    "print(f'y_train shape  is {y_train.shape}')\n",
    "print(f'y_test shape  is {y_test.shape}')"
   ]
  },
  {
   "cell_type": "code",
   "execution_count": null,
   "metadata": {
    "id": "TL2RE_NxLVm8"
   },
   "outputs": [],
   "source": [
    "#Build the CNN model by Keras , using Conv2D layers , MaxPooling & Denses\n",
    "# Tried relu and softmax as activation functions for Denses, but the best result came with Sigmod\n",
    "# Tried sigmod for Conv2D - but best results came with relu\n",
    "KerasModel = keras.models.Sequential([\n",
    "        keras.layers.Conv2D(200,kernel_size=(3,3),activation='relu',input_shape=(s,s,3)), #kernel_size= filter size\n",
    "        keras.layers.Conv2D(150,kernel_size=(3,3),activation='relu'),\n",
    "        keras.layers.MaxPool2D(4,4),\n",
    "        keras.layers.Conv2D(120,kernel_size=(3,3),activation='relu'),    \n",
    "        keras.layers.Conv2D(80,kernel_size=(3,3),activation='relu'),    \n",
    "        keras.layers.Conv2D(50,kernel_size=(3,3),activation='relu'),\n",
    "        keras.layers.MaxPool2D(4,4),\n",
    "        keras.layers.Flatten() ,    \n",
    "        keras.layers.Dense(120,activation='sigmod') ,    \n",
    "        keras.layers.Dense(100,activation='sigmod') ,    \n",
    "        keras.layers.Dense(50,activation='sigmod') , \n",
    "        keras.layers.Dropout(rate=0.5) ,            \n",
    "        keras.layers.Dense(3,activation='softmax') ,   #softmax used with classification  # 3 عدد الفولدرز\n",
    "        ])"
   ]
  },
  {
   "cell_type": "code",
   "execution_count": null,
   "metadata": {
    "id": "i0fHfAm4LVnA"
   },
   "outputs": [],
   "source": [
    "#now to compile the model , using adam optimizer , & sparse categorical crossentropy loss\n",
    "KerasModel.compile(optimizer ='adam',loss='sparse_categorical_crossentropy',metrics=['accuracy'])"
   ]
  },
  {
   "cell_type": "code",
   "execution_count": null,
   "metadata": {
    "colab": {
     "base_uri": "https://localhost:8080/",
     "height": 629
    },
    "id": "A-m04kHgLVnF",
    "outputId": "b3f9e8a3-6f90-4660-e09e-fd0456680343"
   },
   "outputs": [],
   "source": [
    "print('Model Details are : ')\n",
    "print(KerasModel.summary())"
   ]
  },
  {
   "cell_type": "code",
   "execution_count": null,
   "metadata": {
    "colab": {
     "base_uri": "https://localhost:8080/",
     "height": 697
    },
    "id": "B3mroAnrLVnI",
    "outputId": "356a50d9-837a-42db-c564-28c3dcd9bae3"
   },
   "outputs": [],
   "source": [
    "#now to train the model \n",
    "epochs = 20 \n",
    "ThisModel = KerasModel.fit(X_train, y_train, epochs=epochs,batch_size=64,verbose=1)"
   ]
  },
  {
   "cell_type": "code",
   "execution_count": null,
   "metadata": {
    "colab": {
     "base_uri": "https://localhost:8080/",
     "height": 68
    },
    "id": "LeqyMWE7LVnL",
    "outputId": "67e8e120-e789-4a93-918b-bf0b1d606b71"
   },
   "outputs": [],
   "source": [
    "#The final loss & accuracy\n",
    "#Evaluate the accuracy\n",
    "ModelLoss, ModelAccuracy = KerasModel.evaluate(X_test, y_test)\n",
    "\n",
    "print('Test Loss is {}'.format(ModelLoss))\n",
    "print('Test Accuracy is {}'.format(ModelAccuracy ))"
   ]
  },
  {
   "cell_type": "code",
   "execution_count": null,
   "metadata": {
    "colab": {
     "base_uri": "https://localhost:8080/",
     "height": 34
    },
    "id": "KMWUSbBXLVnO",
    "outputId": "f3d11d1f-4bab-4808-ac51-cefc13cf64d9"
   },
   "outputs": [],
   "source": [
    "y_pred = KerasModel.predict(X_test)\n",
    "\n",
    "print('Prediction Shape is {}'.format(y_pred.shape))"
   ]
  },
  {
   "cell_type": "code",
   "execution_count": null,
   "metadata": {
    "colab": {
     "base_uri": "https://localhost:8080/",
     "height": 34
    },
    "id": "HwGjhmPlLVnR",
    "outputId": "c343c081-2c6b-4963-a31e-cd646d301382"
   },
   "outputs": [],
   "source": [
    "y_result = KerasModel.predict(X_pred_array)\n",
    "\n",
    "print('Prediction Shape is {}'.format(y_result.shape))"
   ]
  },
  {
   "cell_type": "code",
   "execution_count": null,
   "metadata": {
    "colab": {
     "base_uri": "https://localhost:8080/",
     "height": 1000
    },
    "id": "K9KKiU3TLVnU",
    "outputId": "54046b72-8ce5-4699-9587-abdf3b4e72a9"
   },
   "outputs": [],
   "source": [
    "plt.figure(figsize=(20,20))\n",
    "for n , i in enumerate(list(np.random.randint(0,len(X_pred),36))) : \n",
    "    plt.subplot(6,6,n+1)\n",
    "    plt.imshow(X_pred[i])    \n",
    "    plt.axis('off')\n",
    "    plt.title(getcode(np.argmax(y_result[i])))"
   ]
  }
 ],
 "metadata": {
  "accelerator": "GPU",
  "colab": {
   "collapsed_sections": [],
   "name": "DateClassi.ipynb",
   "provenance": [],
   "toc_visible": true
  },
  "kernelspec": {
   "display_name": "Python 3",
   "language": "python",
   "name": "python3"
  },
  "language_info": {
   "codemirror_mode": {
    "name": "ipython",
    "version": 3
   },
   "file_extension": ".py",
   "mimetype": "text/x-python",
   "name": "python",
   "nbconvert_exporter": "python",
   "pygments_lexer": "ipython3",
   "version": "3.7.6"
  }
 },
 "nbformat": 4,
 "nbformat_minor": 1
}
